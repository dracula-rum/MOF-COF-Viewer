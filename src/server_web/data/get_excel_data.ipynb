{
 "cells": [
  {
   "cell_type": "code",
   "execution_count": 5,
   "metadata": {},
   "outputs": [],
   "source": [
    "import pandas as pd"
   ]
  },
  {
   "cell_type": "code",
   "execution_count": 6,
   "metadata": {},
   "outputs": [
    {
     "name": "stdout",
     "output_type": "stream",
     "text": [
      "                                       Original File Name NAME  Unnamed: 0  \\\n",
      "0       ddc_v1-3c_uranyl_v2-4c_bicyclooctane_Ch_1-1B_1...   M1         NaN   \n",
      "1       ddc_v1-3c_uranyl_v2-4c_bicyclooctane_Ch_1-1B_1...   M2         NaN   \n",
      "2       ddc_v1-3c_uranyl_v2-4c_bicyclooctane_Ch_1-1B_1...   M3         NaN   \n",
      "3       ddc_v1-3c_uranyl_v2-4c_bicyclooctane_Ch_1-1B_1...   M4         NaN   \n",
      "4       ddc_v1-3c_uranyl_v2-4c_bicyclooctane_Ch_1-1B_1...   M5         NaN   \n",
      "...                                                   ...  ...         ...   \n",
      "105840  zyl_v1-3c_triazine_Ch_v2-4c_In_1_Ch_v3-3c_tria...  NaN         NaN   \n",
      "105841  zyl_v1-3c_triazine_Ch_v2-4c_In_1_Ch_v3-3c_tria...  NaN         NaN   \n",
      "105842  zyl_v1-3c_triazine_Ch_v2-4c_In_1_Ch_v3-3c_tria...  NaN         NaN   \n",
      "105843  zyl_v1-3c_triazine_Ch_v2-4c_In_1_Ch_v3-3c_tria...  NaN         NaN   \n",
      "105844  zyl_v1-3c_triazine_Ch_v2-4c_In_1_Ch_v3-3c_tria...  NaN         NaN   \n",
      "\n",
      "       Renamed File Name     Name  \\\n",
      "0                    NaN      NaN   \n",
      "1                    NaN      NaN   \n",
      "2                    NaN      NaN   \n",
      "3                    NaN      NaN   \n",
      "4                    NaN      NaN   \n",
      "...                  ...      ...   \n",
      "105840               NaN  MM30815   \n",
      "105841               NaN  MM30816   \n",
      "105842               NaN  MM30817   \n",
      "105843               NaN  MM30818   \n",
      "105844               NaN  MM30819   \n",
      "\n",
      "                                                       ID  DIR       VOL  \\\n",
      "0                                                       1  car  157191.0   \n",
      "1                                                    1112  car  157191.0   \n",
      "2                                                    2223  car  156276.0   \n",
      "3                                                    3334  car  190256.0   \n",
      "4                                                    4445  car  190242.0   \n",
      "...                                                   ...  ...       ...   \n",
      "105840                                                ...  NaN       NaN   \n",
      "105841                                                ...  NaN       NaN   \n",
      "105842                                                ...  NaN       NaN   \n",
      "105843                                                ...  NaN       NaN   \n",
      "105844                                                ...  NaN       NaN   \n",
      "\n",
      "            DEN     GCD_A     PLD_A     LCD_A  Sa_m2cm-3    Sa_m2g-1  \\\n",
      "0       0.09439  48.31862  31.09110  45.56118  694.01801  7352.54004   \n",
      "1       0.09439  48.31862  31.09110  45.56118  694.01801  7352.54004   \n",
      "2       0.09494  47.40904  31.92594  47.23597  693.31000  7302.27002   \n",
      "3       0.08050  51.87655  32.57271  51.87655  619.74500  7698.37988   \n",
      "4       0.08051  52.03128  32.34109  52.03128  634.61102  7882.47998   \n",
      "...         ...       ...       ...       ...        ...         ...   \n",
      "105840      NaN       NaN       NaN       NaN        NaN         NaN   \n",
      "105841      NaN       NaN       NaN       NaN        NaN         NaN   \n",
      "105842      NaN       NaN       NaN       NaN        NaN         NaN   \n",
      "105843      NaN       NaN       NaN       NaN        NaN         NaN   \n",
      "105844      NaN       NaN       NaN       NaN        NaN         NaN   \n",
      "\n",
      "        Va_m3m-3  Va_cm3g-1  \n",
      "0        0.95699    10.1385  \n",
      "1        0.95699    10.1385  \n",
      "2        0.95733    10.0831  \n",
      "3        0.96358    11.9694  \n",
      "4        0.96384    11.9718  \n",
      "...          ...        ...  \n",
      "105840       NaN        NaN  \n",
      "105841       NaN        NaN  \n",
      "105842       NaN        NaN  \n",
      "105843       NaN        NaN  \n",
      "105844       NaN        NaN  \n",
      "\n",
      "[105845 rows x 16 columns]\n"
     ]
    }
   ],
   "source": [
    "# 基础性质\n",
    "# 读取第一个 Excel 文件中的两个子表\n",
    "excel1 = pd.ExcelFile('D:/WXR/mywork/mol_vlz/project/property/batch1-4_10.7/ZEO/ZEO-8608-batch1.xlsx')\n",
    "rename1 = excel1.parse('rename')\n",
    "zeo1 = excel1.parse('zeo')\n",
    "\n",
    "# 读取第二个 Excel 文件中的两个子表\n",
    "excel2 = pd.ExcelFile('D:/WXR/mywork/mol_vlz/project/property/batch1-4_10.7/ZEO/ZEO-66463-batch2.xlsx')\n",
    "rename2 = excel2.parse('rename')\n",
    "zeo2 = excel2.parse('zeo')\n",
    "\n",
    "# 读取第三个 Excel 文件中的两个子表\n",
    "excel3 = pd.ExcelFile('D:/WXR/mywork/mol_vlz/project/property/batch1-4_10.7/ZEO/ZEO-19911-batch3.xlsx')\n",
    "rename3 = excel3.parse('rename')\n",
    "zeo3 = excel3.parse('zeo')\n",
    "\n",
    "# 读取第4个 Excel 文件中的两个子表\n",
    "excel4 = pd.ExcelFile('D:/WXR/mywork/mol_vlz/project/property/batch1-4_10.7/ZEO/ZEO-10908-batch4.xlsx')\n",
    "rename4 = excel4.parse('rename')\n",
    "zeo4 = excel4.parse('zeo')\n",
    "\n",
    "# 将 Excel 文件中的子表合并\n",
    "rename = pd.concat([rename1, rename2, rename3,rename4], ignore_index=True)\n",
    "zeo = pd.concat([zeo1, zeo2, zeo3,zeo4], ignore_index=True)\n",
    "\n",
    "# 使用 \"NAME\" 列对应起来\n",
    "excel_data = pd.merge(rename, zeo, on='NAME', how='inner')\n",
    "\n",
    "# 输出结果\n",
    "print(excel_data)"
   ]
  },
  {
   "cell_type": "code",
   "execution_count": 4,
   "metadata": {},
   "outputs": [],
   "source": [
    "# 将 DataFrame 存储为 Excel 文件 oldname Sa_m Sa_g phi Va\n",
    "excel_data.to_csv('./jichu.csv', index=False)  # 如果不想保存索引，可以设置 index=False"
   ]
  },
  {
   "cell_type": "code",
   "execution_count": 5,
   "metadata": {},
   "outputs": [],
   "source": [
    "# 热力学和动力学性质 CH4_N2\n",
    "import pandas as pd\n",
    "excel1 = pd.ExcelFile('D:/WXR/mywork/mol_vlz/project/property/batch1-4_10.7/无限稀释_new/CH4_N2-1500-ul.xlsx')\n",
    "table1 = excel1.parse('CH4_N2')\n",
    "table1.to_csv('./rd1.csv', index=False)"
   ]
  },
  {
   "cell_type": "code",
   "execution_count": 7,
   "metadata": {},
   "outputs": [],
   "source": [
    "import pandas as pd\n",
    "# 热力学和动力学性质 C2H6_C2H4\n",
    "excel2 = pd.ExcelFile('D:/WXR/mywork/mol_vlz/project/property/batch1-4_10.7/无限稀释_new/C2H6_C2H4-2498-ul.xlsx')\n",
    "table2 = excel2.parse('Sheet1')\n",
    "table2.to_csv('./rd2.csv', index=False)"
   ]
  },
  {
   "cell_type": "code",
   "execution_count": 8,
   "metadata": {},
   "outputs": [],
   "source": [
    "import pandas as pd\n",
    "# 热力学和动力学性质 C3H8_C3H6\n",
    "excel3 = pd.ExcelFile('D:/WXR/mywork/mol_vlz/project/property/batch1-4_10.7/无限稀释_new/C3H8_C3H6-3565-ul.xlsx')\n",
    "table3 = excel3.parse('C3H8')\n",
    "table3.to_csv('./rd3.csv', index=False)"
   ]
  },
  {
   "cell_type": "markdown",
   "metadata": {},
   "source": []
  },
  {
   "cell_type": "code",
   "execution_count": 1,
   "metadata": {},
   "outputs": [],
   "source": [
    "import pandas as pd\n",
    "# 混合组分\n",
    "excel = pd.ExcelFile('D:/WXR/mywork/mol_vlz/project/property/batch1-4_10.7/混合组分/CH4-N2-mix.xlsx')\n",
    "table = excel.parse('diff（N2-CH4)')\n",
    "table.to_csv('./hun1d.csv', index=False)\n",
    "table2 = excel.parse('S0(CH4-N2)')\n",
    "table2.to_csv('./hun1s.csv', index=False)"
   ]
  },
  {
   "cell_type": "code",
   "execution_count": 3,
   "metadata": {},
   "outputs": [],
   "source": [
    "# 混合组分\n",
    "excel = pd.ExcelFile('D:/WXR/mywork/mol_vlz/project/property/batch1-4_10.7/混合组分/C2H6_C2H4_mix.xlsx')\n",
    "table = excel.parse('diff(C2H4-C2H6)')\n",
    "table.to_csv('./hun2d.csv', index=False)\n",
    "table2 = excel.parse('S0(C2H6-C2H4)')\n",
    "table2.to_csv('./hun2s64.csv', index=False)\n",
    "table3 = excel.parse('S0(C2H4-C2H6)')\n",
    "table3.to_csv('./hun2s46.csv', index=False)"
   ]
  },
  {
   "cell_type": "code",
   "execution_count": 5,
   "metadata": {},
   "outputs": [],
   "source": [
    "# 混合组分\n",
    "excel = pd.ExcelFile('D:/WXR/mywork/mol_vlz/project/property/batch1-4_10.7/混合组分/C3H8-C3H6-mix.xlsx')\n",
    "table = excel.parse('S0(C3H8-C3H6)')\n",
    "table.to_csv('./hun3s.csv', index=False)\n",
    "table2 = excel.parse('diff(C3H6-C3H8)')\n",
    "table2.to_csv('./hun3d.csv', index=False)"
   ]
  },
  {
   "cell_type": "code",
   "execution_count": null,
   "metadata": {},
   "outputs": [],
   "source": []
  }
 ],
 "metadata": {
  "kernelspec": {
   "display_name": "Python 3.8.13 ('pytorch')",
   "language": "python",
   "name": "python3"
  },
  "language_info": {
   "codemirror_mode": {
    "name": "ipython",
    "version": 3
   },
   "file_extension": ".py",
   "mimetype": "text/x-python",
   "name": "python",
   "nbconvert_exporter": "python",
   "pygments_lexer": "ipython3",
   "version": "3.8.13"
  },
  "orig_nbformat": 4,
  "vscode": {
   "interpreter": {
    "hash": "71342f419acc3ba6ae382518c4ba2a9e6f9bd8751a76a463bc8e77674675b221"
   }
  }
 },
 "nbformat": 4,
 "nbformat_minor": 2
}
